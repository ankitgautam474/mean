{
 "cells": [
  {
   "cell_type": "code",
   "execution_count": 1,
   "id": "56939e63",
   "metadata": {},
   "outputs": [
    {
     "name": "stdout",
     "output_type": "stream",
     "text": [
      "Random Vector:\n",
      "[0.08713605 0.21455445 0.21102016 0.06856353 0.5109808  0.65403368\n",
      " 0.8002393  0.40565771 0.05564288 0.20699036 0.85163202 0.02073266\n",
      " 0.43150125 0.23793658 0.61950225 0.56898165 0.81470163 0.28130039\n",
      " 0.09877843 0.65237793 0.15925746 0.84701379 0.96829499 0.74598841\n",
      " 0.96563248 0.69634541 0.14031124 0.90075322 0.51017691 0.16029624]\n",
      "Mean Value: 0.46\n"
     ]
    }
   ],
   "source": [
    "import numpy as np\n",
    "\n",
    "# Create a random vector of size 30 with values between 0 and 1\n",
    "random_vector = np.random.rand(30)\n",
    "\n",
    "# Find the mean value\n",
    "mean_value = np.mean(random_vector)\n",
    "\n",
    "print(\"Random Vector:\")\n",
    "print(random_vector)\n",
    "print(f\"Mean Value: {mean_value:.2f}\")\n"
   ]
  },
  {
   "cell_type": "code",
   "execution_count": null,
   "id": "10a04caa",
   "metadata": {},
   "outputs": [],
   "source": []
  },
  {
   "cell_type": "code",
   "execution_count": null,
   "id": "f38dee9e",
   "metadata": {},
   "outputs": [],
   "source": []
  }
 ],
 "metadata": {
  "kernelspec": {
   "display_name": "Python 3 (ipykernel)",
   "language": "python",
   "name": "python3"
  },
  "language_info": {
   "codemirror_mode": {
    "name": "ipython",
    "version": 3
   },
   "file_extension": ".py",
   "mimetype": "text/x-python",
   "name": "python",
   "nbconvert_exporter": "python",
   "pygments_lexer": "ipython3",
   "version": "3.11.4"
  }
 },
 "nbformat": 4,
 "nbformat_minor": 5
}
